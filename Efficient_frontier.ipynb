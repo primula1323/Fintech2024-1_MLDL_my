{
 "cells": [
  {
   "cell_type": "code",
   "execution_count": 1,
   "id": "8203bbcc",
   "metadata": {},
   "outputs": [],
   "source": [
    "#pip install PyPortfolioOpt\n",
    "#pip install cvxopt\n",
    "#pip install cvxpy"
   ]
  },
  {
   "cell_type": "code",
   "execution_count": 2,
   "id": "1603e419",
   "metadata": {},
   "outputs": [],
   "source": [
    "import yfinance as yf\n",
    "import pandas as pd\n",
    "import matplotlib.pyplot as plt\n",
    "import numpy as np\n",
    "import seaborn  as sns\n",
    "sns.set()\n",
    "import scipy.optimize as sco\n",
    "\n",
    "from pypfopt.efficient_frontier import EfficientFrontier\n",
    "from pypfopt import risk_models\n",
    "from pypfopt import expected_returns\n",
    "from pypfopt import plotting\n",
    "from pypfopt import objective_functions"
   ]
  },
  {
   "cell_type": "code",
   "execution_count": 3,
   "id": "14baa1bd",
   "metadata": {},
   "outputs": [],
   "source": [
    "start = '2015-01-01'\n",
    "end = '2022-12-31'"
   ]
  },
  {
   "cell_type": "code",
   "execution_count": 4,
   "id": "1cca8db2",
   "metadata": {},
   "outputs": [
    {
     "name": "stdout",
     "output_type": "stream",
     "text": [
      "\r",
      "[*********************100%***********************]  1 of 1 completed"
     ]
    },
    {
     "name": "stdout",
     "output_type": "stream",
     "text": [
      "\n",
      "[*********************100%***********************]  1 of 1 completed"
     ]
    },
    {
     "name": "stdout",
     "output_type": "stream",
     "text": [
      "\n",
      "[*********************100%***********************]  1 of 1 completed"
     ]
    },
    {
     "name": "stdout",
     "output_type": "stream",
     "text": [
      "\n",
      "[*********************100%***********************]  1 of 1 completed"
     ]
    },
    {
     "name": "stdout",
     "output_type": "stream",
     "text": [
      "\n",
      "[*********************100%***********************]  1 of 1 completed\n"
     ]
    }
   ],
   "source": [
    "gold_df = yf.download('GLD',start,end)\n",
    "com_df = yf.download('GSG',start,end)\n",
    "bonds_df = yf.download('VBMFX',start,end)\n",
    "equity_df = yf.download('SPY',start,end)\n",
    "coin_df = yf.download('BTC-USD',start,end)"
   ]
  },
  {
   "cell_type": "code",
   "execution_count": 5,
   "id": "ecc078e9",
   "metadata": {},
   "outputs": [],
   "source": [
    "df = pd.DataFrame()"
   ]
  },
  {
   "cell_type": "code",
   "execution_count": 6,
   "id": "d34ee32a",
   "metadata": {},
   "outputs": [],
   "source": [
    "df['gold'] = gold_df['Close']\n",
    "df['com'] = com_df['Close']\n",
    "df['bond'] = bonds_df['Close']\n",
    "df['equity'] = equity_df['Close']\n",
    "df['bitcoin'] = coin_df['Close']"
   ]
  },
  {
   "cell_type": "code",
   "execution_count": 7,
   "id": "409bbf0e",
   "metadata": {
    "scrolled": true
   },
   "outputs": [
    {
     "data": {
      "text/html": [
       "<div>\n",
       "<style scoped>\n",
       "    .dataframe tbody tr th:only-of-type {\n",
       "        vertical-align: middle;\n",
       "    }\n",
       "\n",
       "    .dataframe tbody tr th {\n",
       "        vertical-align: top;\n",
       "    }\n",
       "\n",
       "    .dataframe thead th {\n",
       "        text-align: right;\n",
       "    }\n",
       "</style>\n",
       "<table border=\"1\" class=\"dataframe\">\n",
       "  <thead>\n",
       "    <tr style=\"text-align: right;\">\n",
       "      <th></th>\n",
       "      <th>gold</th>\n",
       "      <th>com</th>\n",
       "      <th>bond</th>\n",
       "      <th>equity</th>\n",
       "      <th>bitcoin</th>\n",
       "    </tr>\n",
       "    <tr>\n",
       "      <th>Date</th>\n",
       "      <th></th>\n",
       "      <th></th>\n",
       "      <th></th>\n",
       "      <th></th>\n",
       "      <th></th>\n",
       "    </tr>\n",
       "  </thead>\n",
       "  <tbody>\n",
       "    <tr>\n",
       "      <th>2015-01-02</th>\n",
       "      <td>114.080002</td>\n",
       "      <td>21.219999</td>\n",
       "      <td>10.90</td>\n",
       "      <td>205.429993</td>\n",
       "      <td>315.032013</td>\n",
       "    </tr>\n",
       "    <tr>\n",
       "      <th>2015-01-05</th>\n",
       "      <td>115.800003</td>\n",
       "      <td>20.620001</td>\n",
       "      <td>10.93</td>\n",
       "      <td>201.720001</td>\n",
       "      <td>274.473999</td>\n",
       "    </tr>\n",
       "    <tr>\n",
       "      <th>2015-01-06</th>\n",
       "      <td>117.120003</td>\n",
       "      <td>20.280001</td>\n",
       "      <td>10.97</td>\n",
       "      <td>199.820007</td>\n",
       "      <td>286.188995</td>\n",
       "    </tr>\n",
       "    <tr>\n",
       "      <th>2015-01-07</th>\n",
       "      <td>116.430000</td>\n",
       "      <td>20.219999</td>\n",
       "      <td>10.97</td>\n",
       "      <td>202.309998</td>\n",
       "      <td>294.337006</td>\n",
       "    </tr>\n",
       "    <tr>\n",
       "      <th>2015-01-08</th>\n",
       "      <td>115.940002</td>\n",
       "      <td>20.290001</td>\n",
       "      <td>10.94</td>\n",
       "      <td>205.899994</td>\n",
       "      <td>283.348999</td>\n",
       "    </tr>\n",
       "    <tr>\n",
       "      <th>...</th>\n",
       "      <td>...</td>\n",
       "      <td>...</td>\n",
       "      <td>...</td>\n",
       "      <td>...</td>\n",
       "      <td>...</td>\n",
       "    </tr>\n",
       "    <tr>\n",
       "      <th>2022-12-23</th>\n",
       "      <td>167.259995</td>\n",
       "      <td>21.090000</td>\n",
       "      <td>9.56</td>\n",
       "      <td>382.910004</td>\n",
       "      <td>16796.953125</td>\n",
       "    </tr>\n",
       "    <tr>\n",
       "      <th>2022-12-27</th>\n",
       "      <td>168.669998</td>\n",
       "      <td>21.240000</td>\n",
       "      <td>9.50</td>\n",
       "      <td>381.399994</td>\n",
       "      <td>16717.173828</td>\n",
       "    </tr>\n",
       "    <tr>\n",
       "      <th>2022-12-28</th>\n",
       "      <td>167.910004</td>\n",
       "      <td>21.040001</td>\n",
       "      <td>9.48</td>\n",
       "      <td>376.660004</td>\n",
       "      <td>16552.572266</td>\n",
       "    </tr>\n",
       "    <tr>\n",
       "      <th>2022-12-29</th>\n",
       "      <td>168.850006</td>\n",
       "      <td>20.990000</td>\n",
       "      <td>9.51</td>\n",
       "      <td>383.440002</td>\n",
       "      <td>16642.341797</td>\n",
       "    </tr>\n",
       "    <tr>\n",
       "      <th>2022-12-30</th>\n",
       "      <td>169.639999</td>\n",
       "      <td>21.230000</td>\n",
       "      <td>9.48</td>\n",
       "      <td>382.429993</td>\n",
       "      <td>16602.585938</td>\n",
       "    </tr>\n",
       "  </tbody>\n",
       "</table>\n",
       "<p>2014 rows × 5 columns</p>\n",
       "</div>"
      ],
      "text/plain": [
       "                  gold        com   bond      equity       bitcoin\n",
       "Date                                                              \n",
       "2015-01-02  114.080002  21.219999  10.90  205.429993    315.032013\n",
       "2015-01-05  115.800003  20.620001  10.93  201.720001    274.473999\n",
       "2015-01-06  117.120003  20.280001  10.97  199.820007    286.188995\n",
       "2015-01-07  116.430000  20.219999  10.97  202.309998    294.337006\n",
       "2015-01-08  115.940002  20.290001  10.94  205.899994    283.348999\n",
       "...                ...        ...    ...         ...           ...\n",
       "2022-12-23  167.259995  21.090000   9.56  382.910004  16796.953125\n",
       "2022-12-27  168.669998  21.240000   9.50  381.399994  16717.173828\n",
       "2022-12-28  167.910004  21.040001   9.48  376.660004  16552.572266\n",
       "2022-12-29  168.850006  20.990000   9.51  383.440002  16642.341797\n",
       "2022-12-30  169.639999  21.230000   9.48  382.429993  16602.585938\n",
       "\n",
       "[2014 rows x 5 columns]"
      ]
     },
     "execution_count": 7,
     "metadata": {},
     "output_type": "execute_result"
    }
   ],
   "source": [
    "df"
   ]
  },
  {
   "cell_type": "code",
   "execution_count": 8,
   "id": "db689a91",
   "metadata": {},
   "outputs": [],
   "source": [
    "mu = expected_returns.mean_historical_return(df)\n",
    "S = risk_models.sample_cov(df)"
   ]
  },
  {
   "cell_type": "code",
   "execution_count": 9,
   "id": "015ce7c4",
   "metadata": {},
   "outputs": [
    {
     "data": {
      "image/png": "[encoded data removed]",
      "text/plain": [
       "<Figure size 640x480 with 1 Axes>"
      ]
     },
     "metadata": {},
     "output_type": "display_data"
    },
    {
     "name": "stdout",
     "output_type": "stream",
     "text": [
      "Expected annual return: 48.1%\n",
      "Annual volatility: 47.3%\n",
      "Sharpe Ratio: 0.98\n"
     ]
    },
    {
     "data": {
      "text/plain": [
       "(0.48122329882359766, 0.4729333079192483, 0.9752396185686923)"
      ]
     },
     "execution_count": 9,
     "metadata": {},
     "output_type": "execute_result"
    }
   ],
   "source": [
    "ef = EfficientFrontier(mu, S, weight_bounds=(None, None))\n",
    "\n",
    "for name in list(df.columns):\n",
    "    ef.add_constraint(lambda w: w[ef.tickers.index(name)] <= 0.8) \n",
    "        \n",
    "fig, ax = plt.subplots()\n",
    "plotting.plot_efficient_frontier(ef.deepcopy(), ax=ax,show_assets=True)\n",
    "plt.show()\n",
    "weights = ef.max_sharpe()\n",
    "ef.portfolio_performance(verbose=True)"
   ]
  }
 ],
 "metadata": {
  "kernelspec": {
   "display_name": "Python 3 (ipykernel)",
   "language": "python",
   "name": "python3"
  },
  "language_info": {
   "codemirror_mode": {
    "name": "ipython",
    "version": 3
   },
   "file_extension": ".py",
   "mimetype": "text/x-python",
   "name": "python",
   "nbconvert_exporter": "python",
   "pygments_lexer": "ipython3",
   "version": "3.9.13"
  }
 },
 "nbformat": 4,
 "nbformat_minor": 5
}
